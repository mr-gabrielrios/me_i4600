{
 "cells": [
  {
   "cell_type": "code",
   "execution_count": 156,
   "id": "c9b11b94",
   "metadata": {
    "scrolled": true
   },
   "outputs": [],
   "source": [
    "import matplotlib as mpl\n",
    "import matplotlib.pyplot as plt\n",
    "import matplotlib.animation as animation\n",
    "from mpl_toolkits.axes_grid1 import make_axes_locatable\n",
    "from mpl_toolkits.axes_grid1 import AxesGrid\n",
    "import numpy as np\n",
    "import os\n",
    "from scipy.interpolate import griddata\n",
    "import xarray as xr\n",
    "\n",
    "# NEK5000 Python libraries\n",
    "import pymech\n",
    "from pymech.neksuite import readnek\n",
    "from pymech.vtksuite import exa2vtk\n",
    "import pymech.dataset"
   ]
  },
  {
   "cell_type": "markdown",
   "id": "b96c6a73",
   "metadata": {},
   "source": [
    "### Mesh generation\n",
    "This cell generates the points for the mesh given the right input parameters."
   ]
  },
  {
   "cell_type": "code",
   "execution_count": 105,
   "id": "61796347",
   "metadata": {},
   "outputs": [],
   "source": [
    "def mesh_transform(points, method='tanh_lower', k=1):\n",
    "    ''' Applies a geometric mesh transformation to increase resolution at desired locations. \n",
    "    \n",
    "    Inputs:\n",
    "    - y (list of floats or array): points to be transformed\n",
    "    - k (int): 'sharpness' factor\n",
    "    \n",
    "    Outputs:\n",
    "    - arr_y_mod (list of floats): transformed points\n",
    "    \n",
    "    '''\n",
    "    \n",
    "    # Get number of points\n",
    "    n = len(points)\n",
    "    # Get extrema of array points\n",
    "    ll, ul = min(points), max(points)\n",
    "    # Start with base domain of 0 to 1\n",
    "    base = np.linspace(0, 1, n)\n",
    "    # Define array that represents true coordinates\n",
    "    arr = np.linspace(ll, ul, n)\n",
    "    \n",
    "    # Get transformed array using a function. This can be modified.\n",
    "    if method == 'tanh_lower':\n",
    "        arr_mod = sorted([(np.tanh(k*np.pi*(point-0.5)) + 1)/(2/(ul-ll)) + ll for point in base])\n",
    "    elif method =='tanh_upper':\n",
    "        arr_mod = sorted([round((ul-ll)*(np.tanh(0.75*np.pi*(point-1)) + 1) + ll, 3) for point in base])\n",
    "        \n",
    "    # Catch any point discrepancies at extrema\n",
    "    arr_mod[0] = ll\n",
    "    arr_mod[-1] = ul\n",
    "    arr_mod = [round(value, 3) for value in arr_mod]\n",
    "        \n",
    "    return arr_mod"
   ]
  },
  {
   "cell_type": "code",
   "execution_count": 147,
   "id": "43d32cd0",
   "metadata": {},
   "outputs": [],
   "source": [
    "def mesh_generator(num_of_bldg, domain_height, bldg_width, bldg_height, nelx, nely, case):\n",
    "    # Upwind fetch\n",
    "    upwind_fetch = 3\n",
    "    # Downwind fetch\n",
    "    downwind_fetch = 10\n",
    "    # Domain extent\n",
    "    extent = [upwind_fetch + num_of_bldg*(bldg_width + bldg_spacing) + downwind_fetch,\n",
    "             domain_height]\n",
    "    # Domains\n",
    "    domains = []\n",
    "    # Boolean to include solid domain\n",
    "    solids = False\n",
    "\n",
    "    # y-coordinates\n",
    "    lower_y = [0, 0.05, 0.1, 0.2, 0.3, 0.4, 0.45, 0.46, 0.47, 0.48, 0.49, 0.50]\n",
    "    upper_y = [0.50, 0.51, 0.52, 0.53, 0.54, 0.55, 0.6, 0.7, 0.8, 0.9, 0.95, 1.0]\n",
    "\n",
    "    # Filename\n",
    "    filename = '/Users/gabriel/Nek5000/run/int_bdy/{0}.box'.format(case)\n",
    "    f = open(filename, 'w')\n",
    "\n",
    "    f.write('ray_9.rea\\n2\\n2\\n')\n",
    "\n",
    "    f.write('# =====================================\\n')\n",
    "\n",
    "    for n in range(0, num_of_bldg+1):\n",
    "        # Define inflow domain\n",
    "        if n == 0:\n",
    "            # Lower left box\n",
    "            x = [round(el, 2) for el in np.linspace(upwind_fetch, upwind_fetch + bldg_spacing, nelx)]\n",
    "            y = [round(el, 2) for el in np.linspace(0, bldg_height, nely)]\n",
    "            x = mesh_transform(x)\n",
    "            y_lower = mesh_transform(y)\n",
    "            X, Y = np.meshgrid(x, y_lower)\n",
    "            domains.append([X, Y])\n",
    "            f.write('Box \\n')\n",
    "            f.write('{0} {1} \\n'.format(nelx-1, nely-1))  # Write number of elements\n",
    "            f.write(' '.join(map(str, list(x))) + '\\n') # Write x-points\n",
    "            f.write(' '.join(map(str, list(y_lower))) + '\\n') # Write y-points\n",
    "            f.write('E  ,W  ,W  ,E  \\n') # Write velocity BCs\n",
    "            f.write('E  ,I  ,f  ,E  \\n') # Write thermal BCs\n",
    "            # Upper left box\n",
    "            x = [round(el, 2) for el in np.linspace(upwind_fetch, upwind_fetch + bldg_spacing, nelx)]\n",
    "            y = [round(el, 2) for el in np.linspace(bldg_height, domain_height, nely)]\n",
    "            x = mesh_transform(x)\n",
    "            y_upper = mesh_transform(y, method='tanh_upper')\n",
    "            X, Y = np.meshgrid(x, y_upper)\n",
    "            domains.append([X, Y])\n",
    "            f.write('Box \\n')\n",
    "            f.write('{0} {1} \\n'.format(nelx-1, nely-1))  # Write number of elements\n",
    "            f.write(' '.join(map(str, list(x))) + '\\n') # Write x-points\n",
    "            f.write(' '.join(map(str, list(y_upper))) + '\\n') # Write y-points\n",
    "            f.write('E  ,E  ,E  ,SYM\\n') # Write velocity BCs\n",
    "            f.write('E  ,E  ,E  ,SYM\\n') # Write thermal BCs\n",
    "            # Inlet domain\n",
    "            x = [round(el, 2) for el in np.linspace(0, upwind_fetch, nelx)]\n",
    "            y = sorted(list(set(y_lower + y_upper)))\n",
    "            X, Y = np.meshgrid(x, y)\n",
    "            domains.append([X, Y])\n",
    "            f.write('Box \\n')\n",
    "            f.write('{0} {1} \\n'.format(len(x)-1,len(y)-1))  # Write number of elements\n",
    "            f.write(' '.join(map(str, list(x))) + '\\n') # Write x-points\n",
    "            f.write(' '.join(map(str, list(y))) + '\\n') # Write y-points\n",
    "            f.write('v  ,E  ,W  ,SYM\\n') # Write velocity BCs\n",
    "            f.write('t  ,E  ,f  ,SYM\\n') # Write thermal BCs\n",
    "            # Upper right box\n",
    "            x = [round(el, 2) for el in np.linspace(upwind_fetch + bldg_spacing, \n",
    "                                                    upwind_fetch + bldg_spacing + bldg_width, \n",
    "                                                    nelx)]\n",
    "            y = [round(el, 2) for el in np.linspace(bldg_height, domain_height, nely)]\n",
    "            #x = mesh_transform(x)\n",
    "            y = mesh_transform(y, method='tanh_upper')\n",
    "            X, Y = np.meshgrid(x, y)\n",
    "            domains.append([X, Y])\n",
    "            f.write('Box \\n')\n",
    "            f.write('{0} {1} \\n'.format(len(x)-1, nely-1))  # Write number of elements\n",
    "            f.write(' '.join(map(str, list(x))) + '\\n') # Write x-points\n",
    "            f.write(' '.join(map(str, list(y))) + '\\n') # Write y-points\n",
    "            f.write('E  ,E  ,W  ,SYM\\n') # Write velocity BCs\n",
    "            f.write('E  ,E  ,f  ,SYM\\n') # Write thermal BCs\n",
    "            # Lower solid right box\n",
    "            if solids:\n",
    "                x = [round(el, 2) for el in np.linspace(upwind_fetch + bldg_spacing, \n",
    "                                                        upwind_fetch + bldg_spacing + bldg_width, \n",
    "                                                        nelx)]\n",
    "                y = [round(el, 2) for el in np.linspace(0, bldg_height, nely)]\n",
    "                X, Y = np.meshgrid(x, y)\n",
    "                domains.append([X, Y])\n",
    "                f.write('Box \\n')\n",
    "                f.write('{0} {1} \\n'.format(nelx-1, nely-1))  # Write number of elements\n",
    "                f.write(' '.join(map(str, list(x))) + '\\n') # Write x-points\n",
    "                f.write(' '.join(map(str, list(y))) + '\\n') # Write y-points\n",
    "                f.write('W  ,W  ,W  ,W  \\n') # Write velocity BCs\n",
    "                f.write('I  ,I  ,I  ,f  \\n') # Write thermal BCs\n",
    "        elif n != num_of_bldg:\n",
    "            # Lower left box\n",
    "            x = [round(el, 2) for el in np.linspace(upwind_fetch + n*(bldg_width + bldg_spacing), \n",
    "                            upwind_fetch + n*(bldg_width + bldg_spacing) + bldg_spacing, \n",
    "                            nelx)]\n",
    "            # x = mesh_transform(y)\n",
    "            y = [round(el, 2) for el in np.linspace(0, bldg_height, nely)]\n",
    "            y = mesh_transform(y)\n",
    "            X, Y = np.meshgrid(x, y)\n",
    "            domains.append([X, Y])\n",
    "            f.write('Box \\n')\n",
    "            f.write('{0} {1} \\n'.format(nelx-1, nely-1))  # Write number of elements\n",
    "            f.write(' '.join(map(str, list(x))) + '\\n') # Write x-points\n",
    "            f.write(' '.join(map(str, list(y))) + '\\n') # Write y-points\n",
    "            f.write('W  ,W  ,W  ,E  \\n') # Write velocity BCs\n",
    "            f.write('I  ,I  ,f  ,E  \\n') # Write thermal BCs\n",
    "            # Upper left box\n",
    "            x = [round(el, 2) for el in np.linspace(upwind_fetch + n*(bldg_width + bldg_spacing), \n",
    "                            upwind_fetch + n*(bldg_width + bldg_spacing) + bldg_spacing, \n",
    "                            nelx)]\n",
    "            y = [round(el, 2) for el in np.linspace(bldg_height, domain_height, nely)]\n",
    "            y = mesh_transform(y, method='tanh_upper')\n",
    "            X, Y = np.meshgrid(x, y)\n",
    "            domains.append([X, Y])\n",
    "            f.write('Box \\n')\n",
    "            f.write('{0} {1} \\n'.format(nelx-1, nely-1))  # Write number of elements\n",
    "            f.write(' '.join(map(str, list(x))) + '\\n') # Write x-points\n",
    "            f.write(' '.join(map(str, list(y))) + '\\n') # Write y-points\n",
    "            f.write('E  ,E  ,E  ,SYM\\n') # Write velocity BCs\n",
    "            f.write('E  ,E  ,E  ,SYM\\n') # Write thermal BCs\n",
    "            # Upper right box\n",
    "            x = [round(el, 2) for el in np.linspace(upwind_fetch + n*(bldg_width + bldg_spacing) + bldg_spacing, \n",
    "                            upwind_fetch + (n+1)*(bldg_width + bldg_spacing), \n",
    "                            nelx)]\n",
    "            y = [round(el, 2) for el in np.linspace(bldg_height, domain_height, nely)]\n",
    "            y = mesh_transform(y, method='tanh_upper')\n",
    "            X, Y = np.meshgrid(x, y)\n",
    "            domains.append([X, Y])\n",
    "            f.write('Box \\n')\n",
    "            f.write('{0} {1} \\n'.format(len(x)-1, nely-1))  # Write number of elements\n",
    "            f.write(' '.join(map(str, list(x))) + '\\n') # Write x-points\n",
    "            f.write(' '.join(map(str, list(y))) + '\\n') # Write y-points\n",
    "            f.write('E  ,E  ,W  ,SYM\\n') # Write velocity BCs\n",
    "            f.write('E  ,E  ,f  ,SYM\\n') # Write thermal BCs\n",
    "            # Lower solid right box\n",
    "            if solids:\n",
    "                x = [round(el, 2) for el in np.linspace(upwind_fetch + n*(bldg_width + bldg_spacing) + bldg_spacing, \n",
    "                                upwind_fetch + (n+1)*(bldg_width + bldg_spacing), \n",
    "                                nelx)]\n",
    "                y = [round(el, 2) for el in np.linspace(0, bldg_height, nely)]\n",
    "                X, Y = np.meshgrid(x, y)\n",
    "                domains.append([X, Y])\n",
    "                f.write('Box \\n')\n",
    "                f.write('{0} {1} \\n'.format(nelx-1, nely-1))  # Write number of elements\n",
    "                f.write(' '.join(map(str, list(x))) + '\\n') # Write x-points\n",
    "                f.write(' '.join(map(str, list(y))) + '\\n') # Write y-points\n",
    "                f.write('W  ,W  ,W  ,W  \\n') # Write velocity BCs\n",
    "                f.write('I  ,I  ,I  ,f  \\n') # Write thermal BCs\n",
    "        else:\n",
    "            # Outlet domain, lower\n",
    "            x = [round(el, 2) for el in np.linspace(upwind_fetch + n*(bldg_width + bldg_spacing), \n",
    "                            upwind_fetch + n*(bldg_width + bldg_spacing) + downwind_fetch, \n",
    "                            nelx*2)]\n",
    "            y = y_lower\n",
    "            X, Y = np.meshgrid(x, y)\n",
    "            domains.append([X, Y])\n",
    "            f.write('Box \\n')\n",
    "            f.write('{0} {1} \\n'.format(len(x)-1, nely-1))  # Write number of elements\n",
    "            f.write(' '.join(map(str, list(x))) + '\\n') # Write x-points\n",
    "            f.write(' '.join(map(str, list(y))) + '\\n') # Write y-points\n",
    "            f.write('W  ,O  ,W  ,E  \\n') # Write velocity BCs\n",
    "            f.write('I  ,O  ,f  ,E  \\n') # Write thermal BCs\n",
    "            # Outlet domain, upper\n",
    "            x = [round(el, 2) for el in np.linspace(upwind_fetch + n*(bldg_width + bldg_spacing), \n",
    "                            upwind_fetch + n*(bldg_width + bldg_spacing) + downwind_fetch, \n",
    "                            nelx*2)]\n",
    "            y = y_upper\n",
    "            X, Y = np.meshgrid(x, y)\n",
    "            domains.append([X, Y])\n",
    "            f.write('Box \\n')\n",
    "            f.write('{0} {1} \\n'.format(len(x)-1, nely-1))  # Write number of elements\n",
    "            f.write(' '.join(map(str, list(x))) + '\\n') # Write x-points\n",
    "            f.write(' '.join(map(str, list(y))) + '\\n') # Write y-points\n",
    "            f.write('E  ,O  ,E  ,SYM\\n') # Write velocity BCs\n",
    "            f.write('E  ,O  ,E  ,SYM\\n') # Write thermal BCs\n",
    "    f.close()\n",
    "    \n",
    "    # Plot the mesh\n",
    "    fig, ax = plt.subplots(dpi=144)\n",
    "    for domain in domains:\n",
    "        ax.scatter(domain[0], domain[1], s=1)\n",
    "    ax.set_xlim([0, extent[0]])\n",
    "    ax.set_ylim([0, extent[1]])\n",
    "    ax.set_aspect('equal')"
   ]
  },
  {
   "cell_type": "code",
   "execution_count": 223,
   "id": "10cf41e2",
   "metadata": {
    "scrolled": false
   },
   "outputs": [
    {
     "data": {
      "image/png": "[encoded data removed]",
      "text/plain": [
       "<Figure size 864x576 with 1 Axes>"
      ]
     },
     "metadata": {
      "needs_background": "light"
     },
     "output_type": "display_data"
    }
   ],
   "source": [
    "# Number of buildings\n",
    "num_of_bldg = 3\n",
    "# Height of fluid domain\n",
    "domain_height = 10\n",
    "# Width of buildings\n",
    "bldg_width = 2\n",
    "# Height of buildings\n",
    "bldg_height = 2\n",
    "# Inter-building spacing\n",
    "bldg_spacing = 5\n",
    "# Number of elements, x\n",
    "nelx = 7\n",
    "# Number of elements, y, for lower domain\n",
    "nely = 10\n",
    "# Number of elements, y, for upper domain\n",
    "# nely_upper = 10\n",
    "# Case name\n",
    "case_name = 'set_3-config_3'\n",
    "\n",
    "mesh_generator(num_of_bldg, domain_height, bldg_width, bldg_height, nelx, nely, case_name)"
   ]
  },
  {
   "cell_type": "markdown",
   "id": "7f0cc854",
   "metadata": {},
   "source": [
    "#### Mesh check"
   ]
  },
  {
   "cell_type": "code",
   "execution_count": 225,
   "id": "921cd507",
   "metadata": {
    "scrolled": true
   },
   "outputs": [
    {
     "data": {
      "image/png": "[encoded data removed]",
      "text/plain": [
       "<Figure size 432x288 with 1 Axes>"
      ]
     },
     "metadata": {
      "needs_background": "light"
     },
     "output_type": "display_data"
    }
   ],
   "source": [
    "re2 = pymech.neksuite.readre2('/Users/gabriel/Nek5000/run/int_bdy/int_bdy.re2')\n",
    "re2\n",
    "pt_x, pt_y = [], []\n",
    "for i in range(0, len(re2.elem)):\n",
    "    pt_x.append(np.nanmean(re2.elem[i].pos[0, 0, 1]))\n",
    "    pt_y.append(np.nanmean(re2.elem[i].pos[1, 0, 1]))\n",
    "fig, ax = plt.subplots()\n",
    "ax.scatter(pt_x, pt_y, s=1)\n",
    "ax.set_aspect('equal')"
   ]
  },
  {
   "cell_type": "markdown",
   "id": "2fe17ce3",
   "metadata": {},
   "source": [
    "### Non-rectilinear data"
   ]
  },
  {
   "cell_type": "markdown",
   "id": "327867bb",
   "metadata": {},
   "source": [
    "#### Load data"
   ]
  },
  {
   "cell_type": "code",
   "execution_count": 112,
   "id": "653591d6",
   "metadata": {
    "scrolled": true
   },
   "outputs": [],
   "source": [
    "def load_data_nonrectilinear(project, dirname='/Users/gabriel/Nek5000/run'):\n",
    "    # Define directory name\n",
    "    dirname = '/Users/gabriel/Nek5000/run/{0}'.format(project)\n",
    "    # Trial file\n",
    "    files = [os.path.join(dirname, file) for file in os.listdir(dirname) if '.f0' in file]\n",
    "    # Read dataset into a list\n",
    "    fields = [readnek(file) for file in files]\n",
    "    # Generate list of exadata structures sorted by time\n",
    "    ds = exa_timesort(fields)\n",
    "    \n",
    "    return ds"
   ]
  },
  {
   "cell_type": "code",
   "execution_count": 113,
   "id": "693b737d",
   "metadata": {},
   "outputs": [],
   "source": [
    "def exa_timesort(data):\n",
    "    ''' Sorts a list of exadata data structures by its time attribute.'''\n",
    "    \n",
    "    # Initialize list to hold datasets\n",
    "    datasets = []\n",
    "    # Initialize dictionary to hold the data and isolate the time value as keys\n",
    "    temporary = {}\n",
    "    # Iterate through the data list\n",
    "    for i in range(0, len(data)):\n",
    "        # Store data as a value to a key holding the time value\n",
    "        temporary[data[i].time] = data[i]\n",
    "    # Iterate through a sorted list of dictionary keys to re-assign data in order of time, ascending\n",
    "    for item in (sorted(temporary.keys())):\n",
    "        datasets.append(temporary[item])\n",
    "    \n",
    "    return datasets"
   ]
  },
  {
   "cell_type": "code",
   "execution_count": 228,
   "id": "cb6b113d",
   "metadata": {},
   "outputs": [],
   "source": [
    "def processor_nonrectilinear(ds):\n",
    "    ''' Method to coalesce model run data into a single xArray Dataset. \n",
    "    \n",
    "    Methodology:\n",
    "    1. Use the readnek method, as listed in load_data_nonrectilinear, \n",
    "       to get data from each timestep. This will be placed in a list.\n",
    "    2. Iterate through this list and grab all relevant data.\n",
    "    3. Use the np.c_ feature to lump these data into a single 2D array.\n",
    "    4. Build a Pandas DataFrame from this 2D array and re-index such that x, y, and time are the indices.\n",
    "    5. Convert this DataFrame into an xArray Dataset, where x, y, and time become the dimensions.\n",
    "    '''\n",
    "    \n",
    "    # Grab all time data from the model run\n",
    "    times = [elem.time for elem in ds]\n",
    "    # Initialize list to hold Pandas DataFrames\n",
    "    dfs = []\n",
    "    # Iterate through each timestep to grab time-specific data\n",
    "    for time, timestep in enumerate(times):\n",
    "        # Initialize lists for the constituent data\n",
    "        x, y, u, v, p, T, U = [], [], [], [], [], [], []\n",
    "        # Iterate through each element\n",
    "        for i in range(0, len(ds[time].elem)):\n",
    "            # Grab data\n",
    "            pt_x = np.nanmean(ds[time].elem[i].pos[0, 0], axis=(1))[0]\n",
    "            pt_y = np.nanmean(ds[time].elem[i].pos[1, 0], axis=(1))[0]\n",
    "            pt_u = np.nanmean(ds[time].elem[i].vel[0, 0], axis=(1))[0]\n",
    "            pt_v = np.nanmean(ds[time].elem[i].vel[1, 0], axis=(1))[0]\n",
    "            pt_p = np.nanmean(ds[time].elem[i].pres[0, 0], axis=(1))[0]\n",
    "            pt_T = np.nanmean(ds[time].elem[i].temp[0, 0], axis=(1))[0]\n",
    "            # Derived values\n",
    "            pt_U = np.sqrt(pt_u**2 + pt_v**2)\n",
    "            # Append to constituent lists\n",
    "            x.append(pt_x)\n",
    "            y.append(pt_y)\n",
    "            u.append(pt_u)\n",
    "            v.append(pt_v)\n",
    "            p.append(pt_p)\n",
    "            U.append(pt_U)\n",
    "            T.append(pt_T)\n",
    "        # Use np.c_ to create pseudo-spatial DataFrame\n",
    "        df = pd.DataFrame(np.c_[x, y, [timestep]*len(x), u, v, p, U, T], \n",
    "                          columns=['x', 'y', 'time', 'u', 'v', 'p', 'U', 'T'])\n",
    "        # Append DataFrame to list\n",
    "        dfs.append(df)\n",
    "    # Concatenate and reindex the concatenated DataFrame for future xArray routing\n",
    "    dfs = pd.concat(dfs).set_index(['x', 'y', 'time'])\n",
    "    # Construct an xArray Dataset\n",
    "    data = dfs.to_xarray()\n",
    "\n",
    "    # Linearly interpolate dimensions to increase spatial resolution\n",
    "    interp_factor = 4\n",
    "    new_x = np.linspace(test_xr.x[0], test_xr.x[-1], test_xr.dims['x']*interp_factor)\n",
    "    new_y = np.linspace(test_xr.y[0], test_xr.y[-1], test_xr.dims['y']*interp_factor)\n",
    "    data = test_xr.interp(x=new_x, y=new_y)\n",
    "\n",
    "    return data"
   ]
  },
  {
   "cell_type": "code",
   "execution_count": 230,
   "id": "1f5d8bf0",
   "metadata": {},
   "outputs": [],
   "source": [
    "# Directory name\n",
    "dirname = '/Users/gabriel/Nek5000/run/'\n",
    "# Project name\n",
    "project = 'int_bdy/set_1/bldg_2'\n",
    "# Directory path\n",
    "dirpath = os.path.join(dirname, project)\n",
    "# Load data\n",
    "ds = load_data_nonrectilinear(project)\n",
    "# Restructure data\n",
    "data = processor_nonrectilinear(ds)"
   ]
  },
  {
   "cell_type": "code",
   "execution_count": 231,
   "id": "25eccc42",
   "metadata": {},
   "outputs": [
    {
     "data": {
      "text/plain": [
       "Text(0.5, 1.0, 't = 6.02 s')"
      ]
     },
     "execution_count": 231,
     "metadata": {},
     "output_type": "execute_result"
    },
    {
     "data": {
      "image/png": "[encoded data removed]",
      "text/plain": [
       "<Figure size 432x288 with 2 Axes>"
      ]
     },
     "metadata": {
      "needs_background": "light"
     },
     "output_type": "display_data"
    }
   ],
   "source": [
    "# Visualize data\n",
    "fig, ax = plt.subplots()\n",
    "time_value = 300\n",
    "data = test_xr['p'].isel(time=300)\n",
    "im = ax.contourf(test_xr.x, test_xr.y, data.values.T, levels=24)\n",
    "fig.colorbar(im)\n",
    "ax.set_aspect('equal')\n",
    "ax.set_title('t = {0:.2f} s'.format(test_xr.time.values[time_value]))"
   ]
  },
  {
   "cell_type": "markdown",
   "id": "ff1bcaf6",
   "metadata": {},
   "source": [
    "#### Animate"
   ]
  },
  {
   "cell_type": "markdown",
   "id": "14952bc7",
   "metadata": {},
   "source": [
    "#### Mesh sandbox"
   ]
  },
  {
   "cell_type": "code",
   "execution_count": 197,
   "id": "aed31afc",
   "metadata": {},
   "outputs": [
    {
     "data": {
      "image/png": "[encoded data removed]",
      "text/plain": [
       "<Figure size 432x288 with 1 Axes>"
      ]
     },
     "metadata": {
      "needs_background": "light"
     },
     "output_type": "display_data"
    }
   ],
   "source": [
    "n = 20\n",
    "k = 3\n",
    "ll_x, ul_x = 2, 8\n",
    "ll_y, ul_y = -1, 5\n",
    "base_y = np.linspace(0, 1, n)\n",
    "arr_x = np.linspace(ll_x, ul_x, n)\n",
    "arr_y = np.linspace(ll_y, ul_y, n)\n",
    "arr_x_mod = [round((np.tanh(k*np.pi*(y_val-0.5)) + 1)/(2/(ul_x-ll_x)), 3) + ll_x for y_val in base_y]\n",
    "arr_y_mod = [round(((np.tanh(k*np.pi*(y_val-0.5)) + 1)/(2/(ul_y-ll_y))), 3) + ll_y for y_val in base_y]\n",
    "\n",
    "X, Y = np.meshgrid(arr_x, arr_y)\n",
    "X_mod, Y_mod = np.meshgrid(arr_x, arr_y_mod)\n",
    "plt.scatter(X, Y)\n",
    "plt.scatter(X_mod, Y_mod)\n",
    "ax.set_aspect('equal')"
   ]
  },
  {
   "cell_type": "markdown",
   "id": "3ba05d17",
   "metadata": {},
   "source": [
    "#### Flow profile definition"
   ]
  },
  {
   "cell_type": "code",
   "execution_count": 15,
   "id": "85b5237b",
   "metadata": {},
   "outputs": [
    {
     "data": {
      "text/plain": [
       "(0.0, 1.0)"
      ]
     },
     "execution_count": 15,
     "metadata": {},
     "output_type": "execute_result"
    },
    {
     "data": {
      "image/png": "[encoded data removed]",
      "text/plain": [
       "<Figure size 432x288 with 1 Axes>"
      ]
     },
     "metadata": {
      "needs_background": "light"
     },
     "output_type": "display_data"
    }
   ],
   "source": [
    "H = 1\n",
    "U = 0.1\n",
    "d, z_0 = 0, 0.1\n",
    "k = 0.4\n",
    "ys = np.linspace(0, H, 20)\n",
    "u = [U*np.sqrt(y) for y in ys]\n",
    "\n",
    "fig, ax = plt.subplots()\n",
    "ax.plot(u, ys)\n",
    "ax.set_aspect('equal')\n",
    "ax.set_xlim([0, 1])\n",
    "ax.set_ylim([0, 1])"
   ]
  },
  {
   "cell_type": "code",
   "execution_count": null,
   "id": "08e42f81",
   "metadata": {},
   "outputs": [],
   "source": []
  }
 ],
 "metadata": {
  "kernelspec": {
   "display_name": "Python 3 (ipykernel)",
   "language": "python",
   "name": "python3"
  },
  "language_info": {
   "codemirror_mode": {
    "name": "ipython",
    "version": 3
   },
   "file_extension": ".py",
   "mimetype": "text/x-python",
   "name": "python",
   "nbconvert_exporter": "python",
   "pygments_lexer": "ipython3",
   "version": "3.8.8"
  }
 },
 "nbformat": 4,
 "nbformat_minor": 5
}

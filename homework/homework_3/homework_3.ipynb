{
 "cells": [
  {
   "cell_type": "markdown",
   "id": "4d9dd1ad",
   "metadata": {},
   "source": [
    "### Homework 3"
   ]
  },
  {
   "cell_type": "markdown",
   "id": "42b64d55",
   "metadata": {},
   "source": [
    "General imports and statements"
   ]
  },
  {
   "cell_type": "code",
   "execution_count": 39,
   "id": "2f08aa78",
   "metadata": {},
   "outputs": [],
   "source": [
    "import itertools\n",
    "import matplotlib.pyplot as plt\n",
    "import numpy as np\n",
    "\n",
    "# General plotting formatting\n",
    "marker = itertools.cycle(('o', 's', '^', '*')) "
   ]
  },
  {
   "cell_type": "markdown",
   "id": "027caa18",
   "metadata": {},
   "source": [
    "**Problem 1d:** Use both schemes to calculate the second derivative of sin 5𝑥 at 𝑥 = 1.5. (5 pts) Plot the absolute values of the errors as a function of h on a log-log plot. (5 pts) Use 10e−4 ≤ ℎ ≤ 10e0. Discuss your plot (5 pts)"
   ]
  },
  {
   "cell_type": "code",
   "execution_count": 40,
   "id": "6ac7e606",
   "metadata": {},
   "outputs": [],
   "source": [
    "def cdf_a(ys, h):\n",
    "    ''' Derived 2nd derivative operator. '''\n",
    "    if len(ys) != 5:\n",
    "        return None\n",
    "    else:\n",
    "        return (ys[4] - 2*ys[2] + ys[0])/(4*h**2)\n",
    "    \n",
    "def cdf_b(ys, h):\n",
    "    ''' Popular 2nd derivative operator. '''\n",
    "    if len(ys) != 3:\n",
    "        return None\n",
    "    else:\n",
    "        return (ys[2] - 2*ys[1] + ys[0])/(h**2)"
   ]
  },
  {
   "cell_type": "code",
   "execution_count": 50,
   "id": "0c5381d2",
   "metadata": {},
   "outputs": [
    {
     "data": {
      "image/png": "[encoded data removed]",
      "text/plain": [
       "<Figure size 432x288 with 1 Axes>"
      ]
     },
     "metadata": {
      "needs_background": "light"
     },
     "output_type": "display_data"
    }
   ],
   "source": [
    "# Point of interest\n",
    "point_x = 1.5\n",
    "# Intervals around point of interest\n",
    "width_x = 2\n",
    "# Initialize list of grid spacing values\n",
    "arr_h = [10**-4, 10**-3, 10**-2, 10**-1, 10**0]\n",
    "# Actual value\n",
    "actual = -25*np.sin(5*point_x)\n",
    "# Initialize error dictionary\n",
    "errors = {'Derived': [], 'Popular': []}\n",
    "# Iterate through spacing values\n",
    "for h_value in arr_h:\n",
    "    # Initialize list of x-values. \n",
    "    # Note that number of values is equal to twice the maximum number of positions on \n",
    "    ### either side of the 'n' subscript value, plus 1 to account for this value.\n",
    "    arr_x = np.linspace(point_x - h_value*width_x, point_x + h_value*width_x, 2*width_x+1)\n",
    "    # Initialize list of y-values\n",
    "    arr_y = [np.sin(5*i) for i in arr_x]\n",
    "    # Get derivatives\n",
    "    a, b = cdf_a(arr_y, h_value), cdf_b(arr_y[1:-1], h_value)\n",
    "    # Calculate errors\n",
    "    err_a, err_b = 100*abs((a - actual)/actual), 100*abs((b - actual)/actual)\n",
    "    # Append to respective dictionaries\n",
    "    errors['Derived'].append(err_a)\n",
    "    errors['Popular'].append(err_b)\n",
    "\n",
    "# Plot errors\n",
    "fig, ax = plt.subplots()\n",
    "for key, value in errors.items():\n",
    "    im = ax.loglog(arr_h, value, marker = next(marker), label=key)\n",
    "ax.set_xlabel('Mesh size')\n",
    "ax.set_ylabel('Error [%]')\n",
    "ax.set_aspect(0.5)\n",
    "ax.legend(frameon=False);"
   ]
  },
  {
   "cell_type": "code",
   "execution_count": null,
   "id": "77bf406a",
   "metadata": {},
   "outputs": [],
   "source": []
  }
 ],
 "metadata": {
  "kernelspec": {
   "display_name": "Python 3 (ipykernel)",
   "language": "python",
   "name": "python3"
  },
  "language_info": {
   "codemirror_mode": {
    "name": "ipython",
    "version": 3
   },
   "file_extension": ".py",
   "mimetype": "text/x-python",
   "name": "python",
   "nbconvert_exporter": "python",
   "pygments_lexer": "ipython3",
   "version": "3.8.8"
  }
 },
 "nbformat": 4,
 "nbformat_minor": 5
}

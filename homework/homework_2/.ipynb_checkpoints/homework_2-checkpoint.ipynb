{
 "cells": [
  {
   "cell_type": "markdown",
   "id": "5d059039",
   "metadata": {},
   "source": [
    "## Homework 2 - ME I4600, Computational Fluid Mechanics, Spring 2022, City College of New York"
   ]
  },
  {
   "cell_type": "markdown",
   "id": "31ca1005",
   "metadata": {},
   "source": [
    "### General imports"
   ]
  },
  {
   "cell_type": "code",
   "execution_count": 554,
   "id": "025f8a21",
   "metadata": {},
   "outputs": [],
   "source": [
    "import matplotlib.pyplot as plt\n",
    "import numpy as np"
   ]
  },
  {
   "cell_type": "markdown",
   "id": "ac8cc383",
   "metadata": {},
   "source": [
    "### Problem 1"
   ]
  },
  {
   "cell_type": "code",
   "execution_count": 555,
   "id": "73ed2a81",
   "metadata": {},
   "outputs": [],
   "source": [
    "def runge(x):\n",
    "    '''\n",
    "    Runge's function.\n",
    "    \n",
    "    Input(s):\n",
    "        x: float\n",
    "    Output(s):\n",
    "        y: float\n",
    "    '''\n",
    "    return 1/(1 + 25*x**2)\n",
    "\n",
    "def lpi(x, arr_x, arr_y, n=None):\n",
    "    '''\n",
    "    Lagrange polynomial interpolation.\n",
    "    \n",
    "    Input(s):\n",
    "        x: (float) the point on the x-axis at which interpolation is desired\n",
    "        arr_x: (list or NumPy array) array of points on the x-axis\n",
    "        arr_y: (list or NumPly array) array of functions based on points from the x-axis\n",
    "        n: (int, optional) order of interpolation\n",
    "    Outputs(s):\n",
    "        p: (float) interpolated point that is a function of 'x'\n",
    "    '''\n",
    "    \n",
    "    # If no order was specified, set order to be equal to umber of points\n",
    "    if not n:\n",
    "        n = len(arr_x)\n",
    "    \n",
    "    # Intialize interpolation\n",
    "    p = 0\n",
    "    # Iterate through products\n",
    "    for j in range(0, n):\n",
    "        # Initialize inner sum\n",
    "        s = 1\n",
    "        # Iterate through sums\n",
    "        for i in range(0, n):\n",
    "            # i =/= j condition\n",
    "            if i != j:\n",
    "                s = s * (x - arr_x[i])/(arr_x[j] - arr_x[i])\n",
    "        p += arr_y[j]*s\n",
    "    \n",
    "    return p"
   ]
  },
  {
   "cell_type": "markdown",
   "id": "cc4c44ab",
   "metadata": {},
   "source": [
    "**Problem 1a**: Using the above data in the table, find the interpolated value at x=0.9. (10 pts)"
   ]
  },
  {
   "cell_type": "code",
   "execution_count": 558,
   "id": "ae264a7d",
   "metadata": {},
   "outputs": [],
   "source": [
    "# Define points along the x-axis\n",
    "step_x = 0.2\n",
    "arr_x_a = np.arange(-1, 1+step_x, step_x)\n",
    "# Define functions of the arr_x points\n",
    "arr_y_a = np.array([runge(x) for x in arr_x_a])\n",
    "\n",
    "# Define point at which interpolation is desired\n",
    "x = 0.9\n",
    "# Calculate the interpolation\n",
    "p_a = lpi(x, arr_x_a, arr_y_a)"
   ]
  },
  {
   "cell_type": "markdown",
   "id": "cb908079",
   "metadata": {},
   "source": [
    "**Problem 1b:** Use Runge’s function to generate a table of 21 equally spaced data points. Interpolate these data using a Lagrange polynomial of order 20. Plot this polynomial and comment on the comparison between your result and the plot of part (a). (10 pts)"
   ]
  },
  {
   "cell_type": "code",
   "execution_count": 569,
   "id": "05575bdb",
   "metadata": {},
   "outputs": [
    {
     "name": "stdout",
     "output_type": "stream",
     "text": [
      "0.04705882352941175\n"
     ]
    }
   ],
   "source": [
    "# Define points along the x-axis\n",
    "arr_x_b = np.linspace(-1, 1, 21)\n",
    "# Define functions of the arr_x points\n",
    "arr_y_b = np.array([runge(x) for x in arr_x_b])\n",
    "\n",
    "# Define point at which interpolation is desired\n",
    "x = 0.9\n",
    "# Calculate the interpolation\n",
    "p_b_10 = [lpi(i, arr_x_a, arr_y_a) for i in arr_x_b]\n",
    "p_b_20 = [lpi(i, arr_x_b, arr_y_b) for i in arr_x_b]\n",
    "print(arr_y_b[-2])"
   ]
  },
  {
   "cell_type": "code",
   "execution_count": 570,
   "id": "71c3679f",
   "metadata": {},
   "outputs": [
    {
     "data": {
      "image/png": "[encoded data removed]",
      "text/plain": [
       "<Figure size 432x288 with 1 Axes>"
      ]
     },
     "metadata": {
      "needs_background": "light"
     },
     "output_type": "display_data"
    }
   ],
   "source": [
    "fig, ax = plt.subplots()\n",
    "ax.plot(arr_x_a, arr_y_a, marker='o', label='10 data points, n=10')\n",
    "ax.plot(arr_x_b, p_b_10, marker='s', label='10 data points, n=20')\n",
    "ax.plot(arr_x_b, p_b_20, marker='x', label='20 data points, n=20')\n",
    "ax.scatter(x, p_a, marker='^', c='k', s=50, zorder=10, label='P(0.9)')\n",
    "fig.legend(loc='upper right', bbox_to_anchor=(1.275, 0.925), frameon=False);"
   ]
  },
  {
   "cell_type": "markdown",
   "id": "dac1a88f",
   "metadata": {},
   "source": [
    "### Problem 2"
   ]
  },
  {
   "cell_type": "markdown",
   "id": "4b4bc9eb",
   "metadata": {},
   "source": [
    "**Problem 2a:** Interpolate the data with the Lagrange polynomial (5 pts). Plot the polynomial and the data points (5 pts). Use the polynomial to predict the condition of the lakes in 2009 (5 pts). Discuss this prediction (5 pts)."
   ]
  },
  {
   "cell_type": "code",
   "execution_count": 581,
   "id": "1323e74e",
   "metadata": {},
   "outputs": [
    {
     "name": "stdout",
     "output_type": "stream",
     "text": [
      "Toxin concentration prediction for 2009: -38.40\n"
     ]
    }
   ],
   "source": [
    "# List of years\n",
    "interval = 2\n",
    "years = np.arange(1993, 2009, interval)\n",
    "# Toxin concentrations\n",
    "conc = np.array([12, 12.7, 13, 15.2, 18.2, 19.8, 24.1, 28.1])\n",
    "\n",
    "# Interpolate concentrations annually\n",
    "years_annual = np.arange(1993, 2009, interval/2)\n",
    "conc_p = [lpi(year, years, conc) for year in years_annual]\n",
    "\n",
    "# Predict concentration in 2009\n",
    "conc_p_2009 = lpi(2009, years, conc)\n",
    "print('Toxin concentration prediction for 2009: {0:.2f}'.format(conc_p_2009))"
   ]
  },
  {
   "cell_type": "markdown",
   "id": "d5be45e2",
   "metadata": {},
   "source": [
    "**Problem 2b:** Interpolation may also be used to fill “holes” in the date. Say the data from 1997 and 1999 disappeared. Predict these values using the Lagrange polynomial fitted through the other known data points (10 pts)."
   ]
  },
  {
   "cell_type": "code",
   "execution_count": 584,
   "id": "f3797ee9",
   "metadata": {},
   "outputs": [
    {
     "data": {
      "image/png": "[encoded data removed]",
      "text/plain": [
       "<Figure size 288x216 with 1 Axes>"
      ]
     },
     "metadata": {
      "needs_background": "light"
     },
     "output_type": "display_data"
    }
   ],
   "source": [
    "# Boolean mask\n",
    "mask = np.where((years != 1997) & (years != 1999))\n",
    "# List of years\n",
    "years_missing = years[mask]\n",
    "# Toxin concentrations\n",
    "conc_missing = conc[mask]\n",
    "\n",
    "# Interpolate concentrations annually\n",
    "years_annual = np.arange(1993, 2009, interval/2)\n",
    "conc_p_hole = [lpi(year, years_missing, conc_missing) for year in years_annual]\n",
    "\n",
    "# Plot the concentrations\n",
    "fig, ax = plt.subplots(figsize=(4, 3))\n",
    "ax.plot(years_annual, conc_p, marker='o', markevery=interval, label='Complete dataset')\n",
    "ax.scatter(years_missing, conc_missing, s=50, color='tab:orange')\n",
    "ax.plot(years_annual, conc_p_hole, color='tab:orange', label='Missing data')\n",
    "ax.set_xlabel('Year')\n",
    "ax.set_xticks(years)\n",
    "ax.set_ylabel('Concentration')\n",
    "fig.legend(loc='upper right', bbox_to_anchor=(1.4, 0.925), frameon=False);"
   ]
  },
  {
   "cell_type": "code",
   "execution_count": 576,
   "id": "409fc49e",
   "metadata": {},
   "outputs": [
    {
     "name": "stdout",
     "output_type": "stream",
     "text": [
      "1993.0 12.0\n",
      "1994.0 11.406171874999998\n",
      "1995.0 12.7\n",
      "1996.0 14.569140624999996\n",
      "1997.0 16.23333333333333\n",
      "1998.0 17.343359375\n",
      "1999.0 17.880000000000003\n",
      "2000.0 18.052994791666666\n",
      "2001.0 18.2\n",
      "2002.0 18.685546875000004\n",
      "2003.0 19.8\n",
      "2004.0 21.658515625000003\n",
      "2005.0 24.1\n",
      "2006.0 26.586067708333335\n",
      "2007.0 28.1\n",
      "2008.0 27.045703125000003\n"
     ]
    }
   ],
   "source": [
    "for i in range(0, len(conc_p_hole)):\n",
    "    print(years_annual[i], conc_p_hole[i])"
   ]
  },
  {
   "cell_type": "markdown",
   "id": "4d009008",
   "metadata": {},
   "source": [
    "### Problem 3"
   ]
  },
  {
   "cell_type": "code",
   "execution_count": 578,
   "id": "5013a4d3",
   "metadata": {},
   "outputs": [],
   "source": [
    "def lorentz(x, a):\n",
    "    '''\n",
    "    Lorentz profile.\n",
    "    \n",
    "    Input(s):\n",
    "        x: float\n",
    "        a: float\n",
    "    Output(s):\n",
    "        y: float\n",
    "    '''\n",
    "    return 1/(1 + x**2/(a**2))"
   ]
  },
  {
   "cell_type": "markdown",
   "id": "d9d0957f",
   "metadata": {},
   "source": [
    "**Problem 3a:** For a = 0.1 and 1, (a) plot the function from 0 to 1 (5 pts)."
   ]
  },
  {
   "cell_type": "code",
   "execution_count": 580,
   "id": "64a1b6fa",
   "metadata": {},
   "outputs": [
    {
     "data": {
      "image/png": "[encoded data removed]",
      "text/plain": [
       "<Figure size 216x216 with 1 Axes>"
      ]
     },
     "metadata": {
      "needs_background": "light"
     },
     "output_type": "display_data"
    }
   ],
   "source": [
    "arr_x = np.arange(0, 1, 0.01)\n",
    "y1 = [lorentz(x, 0.1) for x in arr_x]\n",
    "y2 = [lorentz(x, 1) for x in arr_x]\n",
    "\n",
    "fig, ax = plt.subplots(figsize=(3, 3))\n",
    "ax.plot(arr_x, y1, label='a = 0.1')\n",
    "ax.plot(arr_x, y2, label='a = 1')\n",
    "ax.legend(frameon=False);"
   ]
  },
  {
   "cell_type": "markdown",
   "id": "d6955d67",
   "metadata": {},
   "source": [
    "**Problem 3b:** Integrate this function from 0 to 1 using Newton-Cotes methods of various orders (n = 2, 3, and 6) with fixed number of intervals (number of intervals = 12) (10 pts)."
   ]
  },
  {
   "cell_type": "code",
   "execution_count": 588,
   "id": "2ae1ed00",
   "metadata": {},
   "outputs": [],
   "source": [
    "# Define Newton-Cotes coefficients.\n",
    "def ncc(n):\n",
    "    '''\n",
    "    Newton-Cotes coefficients generator.\n",
    "    \n",
    "    Input(s):\n",
    "        n: int, order of Newton-Cotes coefficients\n",
    "    Output(s):\n",
    "        coeffs: array, array of floats with Newton-Cotes coefficients\n",
    "    \n",
    "    '''\n",
    "    \n",
    "    # Define array of values to set up coefficient matrix\n",
    "    arr = np.arange(0, n+1, 1)\n",
    "    # Define column vector to process matrix with\n",
    "    B = [(n**(i+1))/(i+1) for i in range(0, n+1)]\n",
    "    # Generate Vandermonde matrix\n",
    "    M = np.vander(arr, max(arr)+1, increasing=True)\n",
    "    # Generate coefficients\n",
    "    coeffs = np.dot(np.linalg.inv(M.T), B)/n\n",
    "    \n",
    "    return coeffs"
   ]
  },
  {
   "cell_type": "code",
   "execution_count": 586,
   "id": "e36b6500",
   "metadata": {},
   "outputs": [],
   "source": [
    "def ncc_integration(n, lower, upper, a):\n",
    "    \n",
    "    # Define lower and upper bounds\n",
    "    arr = np.linspace(lower, upper, n+1)\n",
    "    # Generate Newton-Cotes coefficients\n",
    "    coeffs = ncc(n)\n",
    "    # Initialize integration\n",
    "    s = 0\n",
    "    # Perform integration\n",
    "    s = (upper - lower)*np.nansum([coeffs[k]*lorentz(arr[k], a) for k in range(0, n+1)])\n",
    "    \n",
    "    return s"
   ]
  },
  {
   "cell_type": "code",
   "execution_count": 590,
   "id": "ec451dd0",
   "metadata": {},
   "outputs": [
    {
     "name": "stdout",
     "output_type": "stream",
     "text": [
      "When a is 0.1, the integral of function with order 2 is: 0.147009\n",
      "When a is 0.1, the integral of function with order 3 is: 0.147074\n",
      "When a is 0.1, the integral of function with order 6 is: 0.147112\n",
      "When a is 1, the integral of function with order 2 is: 0.785398\n",
      "When a is 1, the integral of function with order 3 is: 0.785398\n",
      "When a is 1, the integral of function with order 6 is: 0.785398\n"
     ]
    },
    {
     "data": {
      "image/png": "[encoded data removed]",
      "text/plain": [
       "<Figure size 216x216 with 1 Axes>"
      ]
     },
     "metadata": {
      "needs_background": "light"
     },
     "output_type": "display_data"
    }
   ],
   "source": [
    "# Define number of intervals\n",
    "N = 12\n",
    "# Define x-values\n",
    "arr_x = np.linspace(0, 1, N)\n",
    "# Initialize list of integrations and errors\n",
    "ints, errors = [], []\n",
    "# Define actual value (from Wolfram)\n",
    "actual = [0.147113, np.pi/4]\n",
    "# Define orders of interest\n",
    "ns = [2, 3, 6]\n",
    "# Perform integrations\n",
    "for j, a in enumerate([0.1, 1]):\n",
    "    # Initialize list to capture coefficient-specific errors\n",
    "    error = []\n",
    "    for n in ns:\n",
    "        s = np.nansum([ncc_integration(n, arr_x[i], arr_x[i+1], a) for i in range(0, len(arr_x)-1)])\n",
    "        print('When a is {0}, the integral of function with order {1} is: {2:.6f}'.format(a, n, s))\n",
    "        ints.append(s)\n",
    "        # Catalogue error\n",
    "        error.append(100*np.abs((s - actual[j])/actual[j]))\n",
    "    # Append to master error list\n",
    "    errors.append(error)\n",
    "\n",
    "# Plotting\n",
    "fig, ax = plt.subplots(figsize=(3,3))\n",
    "ax.plot(ns, errors[0], marker='o', label='a = 0.1')\n",
    "ax.plot(ns, errors[1], marker='s', label='a = 1')\n",
    "ax.set_yscale('log')\n",
    "ax.set_xticks(ns)\n",
    "ax.set_xlabel('Order')\n",
    "ax.set_ylabel('Error [%]')\n",
    "fig.legend(loc='upper right', bbox_to_anchor=(1.3, 0.925), frameon=False);"
   ]
  },
  {
   "cell_type": "markdown",
   "id": "db6bd7ac",
   "metadata": {},
   "source": [
    "**Problem 3c:** Integrate this function from 0 to 1 using trapezoidal rule (n = 1) with variable number of intervals (number of intervals = 6, 12, and 24) (10 pts)."
   ]
  },
  {
   "cell_type": "code",
   "execution_count": 592,
   "id": "8bc893af",
   "metadata": {},
   "outputs": [
    {
     "name": "stdout",
     "output_type": "stream",
     "text": [
      "Integral of function with 6 intervals is: 0.161237\n",
      "Integral of function with 12 intervals is: 0.147413\n",
      "Integral of function with 24 intervals is: 0.147110\n",
      "Integral of function with 6 intervals is: 0.783732\n",
      "Integral of function with 12 intervals is: 0.785054\n",
      "Integral of function with 24 intervals is: 0.785319\n"
     ]
    },
    {
     "data": {
      "image/png": "[encoded data removed]",
      "text/plain": [
       "<Figure size 216x216 with 1 Axes>"
      ]
     },
     "metadata": {
      "needs_background": "light"
     },
     "output_type": "display_data"
    }
   ],
   "source": [
    "# Define order\n",
    "n = 1\n",
    "# Define Lorentz coefficients\n",
    "Ns = [6, 12, 24]\n",
    "# Intialize list of actuals and errors\n",
    "actual, errors = [0.147113, np.pi/4], []\n",
    "# Perform integrations\n",
    "for j, a in enumerate([0.1, 1]):\n",
    "    error = []\n",
    "    for N in Ns:\n",
    "        arr_x = np.linspace(0, 1, N)\n",
    "        s = np.nansum([ncc_integration(n, arr_x[i], arr_x[i+1], a) for i in range(0, len(arr_x)-1)])\n",
    "        print('Integral of function with {0} intervals is: {1:.6f}'.format(N, s))\n",
    "        error.append(100*np.abs((s - actual[j])/actual[j]))\n",
    "    errors.append(error)\n",
    "\n",
    "# Plotting\n",
    "fig, ax = plt.subplots(figsize=(3, 3))\n",
    "ax.plot(Ns, errors[0], marker='o', label='a = 0.1')\n",
    "ax.plot(Ns, errors[1], marker='s', label='a = 1')\n",
    "ax.set_yscale('log')\n",
    "ax.set_xticks(Ns)\n",
    "ax.set_xlabel('Intervals')\n",
    "ax.set_ylabel('Error [%]')\n",
    "ax.legend(frameon=False);"
   ]
  },
  {
   "cell_type": "markdown",
   "id": "ea14c391",
   "metadata": {},
   "source": [
    "**Problem 4:** Integrate the function of Problem 3 using Gauss quadrature of various numbers of Gauss points (n ≤ 5) with single interval (20 pts). Plot the error versus the number of Gauss points. (15 pts)"
   ]
  },
  {
   "cell_type": "code",
   "execution_count": 594,
   "id": "6b197761",
   "metadata": {},
   "outputs": [],
   "source": [
    "def gq(n, a):\n",
    "    '''\n",
    "    Gauss quadrature for use with the Lorentz profile.\n",
    "    \n",
    "    Input(s):\n",
    "        n: int\n",
    "        a: int, for Lorentz profile\n",
    "    Output(s):\n",
    "        s: float\n",
    "    '''\n",
    "    \n",
    "    # Catalogue abscissas and weights for orders (n = 2 to n = 5)\n",
    "    if n == 2:\n",
    "        arr_x = [-1, -np.sqrt(3)/3, np.sqrt(3)/3, 1]\n",
    "        w = [1, 1, 1, 1]\n",
    "    elif n == 3:\n",
    "        arr_x = [-1, -np.sqrt(15)/5, 0, np.sqrt(15)/5, 1]\n",
    "        w = [1, 5/9, 8/9, 5/9, 1]\n",
    "    elif n == 4:\n",
    "        arr_x = [-1, \n",
    "                 -np.sqrt(525 + 70*np.sqrt(30))/35, \n",
    "                 -np.sqrt(525 - 70*np.sqrt(30))/35, \n",
    "                 np.sqrt(525 - 70*np.sqrt(30))/35, \n",
    "                 np.sqrt(525 + 70*np.sqrt(30))/35, \n",
    "                 1]\n",
    "        w = [1, \n",
    "             (18-np.sqrt(30))/36, \n",
    "             (18+np.sqrt(30))/36, \n",
    "             (18+np.sqrt(30))/36, \n",
    "             (18-np.sqrt(30))/36, 1]\n",
    "    elif n == 5:\n",
    "        arr_x = [-1, \n",
    "                 -np.sqrt(245 + 14*np.sqrt(70))/21, \n",
    "                 -np.sqrt(245 - 14*np.sqrt(70))/21, \n",
    "                 0,\n",
    "                 np.sqrt(245 - 14*np.sqrt(70))/21, \n",
    "                 np.sqrt(245 + 14*np.sqrt(70))/21, \n",
    "                 1]\n",
    "        w = [1, \n",
    "             (322 - 13*np.sqrt(70))/900, \n",
    "             (322 + 13*np.sqrt(70))/900, \n",
    "             128/225,\n",
    "             (322 + 13*np.sqrt(70))/900, \n",
    "             (322 - 13*np.sqrt(70))/900, \n",
    "             1]\n",
    "    else:\n",
    "        return None\n",
    "    \n",
    "    # Get quadrature\n",
    "    s = np.nansum([w[k]*lorentz(arr_x[k], a) for k in range(1, n+1)])\n",
    "    \n",
    "    return s"
   ]
  },
  {
   "cell_type": "code",
   "execution_count": 596,
   "id": "67d15c6e",
   "metadata": {},
   "outputs": [
    {
     "name": "stdout",
     "output_type": "stream",
     "text": [
      "Gauss quadrature for Lorentz profile with coefficient 0.1 and order 2 is: 0.029126\n",
      "Gauss quadrature for Lorentz profile with coefficient 0.1 and order 3 is: 0.453552\n",
      "Gauss quadrature for Lorentz profile with coefficient 0.1 and order 4 is: 0.056556\n",
      "Gauss quadrature for Lorentz profile with coefficient 0.1 and order 5 is: 0.303252\n",
      "Gauss quadrature for Lorentz profile with coefficient 1 and order 2 is: 0.750000\n",
      "Gauss quadrature for Lorentz profile with coefficient 1 and order 3 is: 0.791667\n",
      "Gauss quadrature for Lorentz profile with coefficient 1 and order 4 is: 0.784314\n",
      "Gauss quadrature for Lorentz profile with coefficient 1 and order 5 is: 0.785586\n"
     ]
    },
    {
     "data": {
      "image/png": "[encoded data removed]",
      "text/plain": [
       "<Figure size 216x216 with 1 Axes>"
      ]
     },
     "metadata": {
      "needs_background": "light"
     },
     "output_type": "display_data"
    }
   ],
   "source": [
    "# Initialize quadrature orders\n",
    "ns = [2, 3, 4, 5]\n",
    "# Intialize list of actuals and errors\n",
    "actual, errors = [0.147113, np.pi/4], []\n",
    "\n",
    "# Iterate over each value of a\n",
    "for j, a in enumerate([0.1, 1]):\n",
    "    error = []\n",
    "    for n in ns:\n",
    "        value = gq(n, a)/2\n",
    "        print('Gauss quadrature for Lorentz profile with coefficient {0} and order {1} is: {2:.6f}'.format(a, n, value))\n",
    "        error.append(100*np.abs(actual[j] - value)/actual[j])\n",
    "    errors.append(error)\n",
    "\n",
    "fig, ax = plt.subplots(figsize=(3, 3))\n",
    "ax.plot(ns, errors[0], marker='o', label='a = 0.1')\n",
    "ax.plot(ns, errors[1], marker='s', label='a = 1')\n",
    "ax.set_xticks(ns)\n",
    "ax.set_xlabel('Order')\n",
    "ax.set_ylabel('Error [%]')\n",
    "ax.set_yscale('log')\n",
    "fig.legend(loc='upper right', bbox_to_anchor=(1.3, 0.925), frameon=False);"
   ]
  },
  {
   "cell_type": "code",
   "execution_count": null,
   "id": "81356ba3",
   "metadata": {},
   "outputs": [],
   "source": []
  }
 ],
 "metadata": {
  "kernelspec": {
   "display_name": "Python 3 (ipykernel)",
   "language": "python",
   "name": "python3"
  },
  "language_info": {
   "codemirror_mode": {
    "name": "ipython",
    "version": 3
   },
   "file_extension": ".py",
   "mimetype": "text/x-python",
   "name": "python",
   "nbconvert_exporter": "python",
   "pygments_lexer": "ipython3",
   "version": "3.8.8"
  }
 },
 "nbformat": 4,
 "nbformat_minor": 5
}
